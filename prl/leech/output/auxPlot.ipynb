{
 "cells": [
  {
   "cell_type": "code",
   "execution_count": null,
   "metadata": {},
   "outputs": [],
   "source": [
    "%matplotlib qt5\n",
    "import numpy as np\n",
    "import matplotlib.pyplot as plt"
   ]
  },
  {
   "cell_type": "code",
   "execution_count": null,
   "metadata": {},
   "outputs": [],
   "source": [
    "sn=np.fromfile(\"../sn.bin\",dtype=np.uint64)\n",
    "duty=np.fromfile(\"../duty.bin\",dtype=np.float64)\n",
    "period=np.fromfile(\"../period.bin\",dtype=np.float64)\n",
    "N=int(np.sqrt(len(sn)))\n",
    "sn=sn.reshape(N,N)\n",
    "duty=duty.reshape(N,N)\n",
    "period=period.reshape(N,N)"
   ]
  },
  {
   "cell_type": "code",
   "execution_count": null,
   "metadata": {},
   "outputs": [],
   "source": [
    "pars=[-0.03, 0.015,-0.05, 0.02]\n",
    "fig, ax = plt.subplots()\n",
    "ax.imshow(np.log(duty/period),origin='lower',interpolation='none',vmin=-5,vmax=0, extent=pars,cmap='jet')\n",
    "ax.set_aspect((pars[1]-pars[0])/(pars[3]-pars[2]))"
   ]
  },
  {
   "cell_type": "code",
   "execution_count": null,
   "metadata": {},
   "outputs": [],
   "source": [
    "plt.imshow(np.log2(sn),origin='lower',interpolation='none',vmax=20)\n",
    "# plt.show()"
   ]
  },
  {
   "cell_type": "code",
   "execution_count": null,
   "metadata": {},
   "outputs": [],
   "source": [
    "plt.imshow(np.log(duty/(period)),origin='lower',interpolation='none',vmin=-5,vmax=0)"
   ]
  },
  {
   "cell_type": "code",
   "execution_count": null,
   "metadata": {},
   "outputs": [],
   "source": [
    "cmap = plt.cm.jet\n",
    "# norm = plt.Normalize(vmin=data.min(), vmax=data.max())\n",
    "normSN = plt.Normalize(vmin=0, vmax=20)\n",
    "normDC = plt.Normalize(vmin=0, vmax=1)\n",
    "normDCLog = plt.Normalize(vmin=-5, vmax=0)"
   ]
  },
  {
   "cell_type": "code",
   "execution_count": null,
   "metadata": {},
   "outputs": [],
   "source": [
    "image = cmap(normSN(np.log2(sn)))\n",
    "plt.imsave('H-sn-full.png', image,origin='lower')"
   ]
  },
  {
   "cell_type": "code",
   "execution_count": null,
   "metadata": {},
   "outputs": [],
   "source": [
    "image = cmap(normDC(duty/(period)))\n",
    "plt.imsave('H-dc-full.png', image,origin='lower')"
   ]
  },
  {
   "cell_type": "code",
   "execution_count": null,
   "metadata": {},
   "outputs": [],
   "source": [
    "image = cmap(normDCLog(np.log(duty/period)))\n",
    "plt.imsave('H-dcLog-full.png', image,origin='lower')"
   ]
  },
  {
   "cell_type": "code",
   "execution_count": null,
   "metadata": {},
   "outputs": [],
   "source": [
    "barSN=np.linspace(0,20.9999,1024).reshape((1024,1))\n",
    "image = cmap(normSN(barSN - barSN%1))\n",
    "plt.imsave('bar-sn.png', image,origin='lower')"
   ]
  },
  {
   "cell_type": "code",
   "execution_count": null,
   "metadata": {},
   "outputs": [],
   "source": [
    "barDC=np.linspace(0,1,1024).reshape((1024,1))\n",
    "image = cmap(normDC(barDC))\n",
    "plt.imsave('bar-dc.png', image,origin='lower')"
   ]
  },
  {
   "cell_type": "code",
   "execution_count": null,
   "metadata": {},
   "outputs": [],
   "source": [
    "barDCLog=np.linspace(-5,0,1024).reshape((1024,1))\n",
    "image = cmap(normDCLog(barDCLog))\n",
    "plt.imsave('bar-dcLog.png', image,origin='lower')"
   ]
  },
  {
   "cell_type": "code",
   "execution_count": null,
   "metadata": {},
   "outputs": [],
   "source": [
    "plt.imshow(image,origin='lower')"
   ]
  },
  {
   "cell_type": "code",
   "execution_count": null,
   "metadata": {},
   "outputs": [],
   "source": [
    "for i in range(0,21,4):\n",
    "    print (i/21)"
   ]
  },
  {
   "cell_type": "code",
   "execution_count": null,
   "metadata": {},
   "outputs": [],
   "source": [
    "par0=[-32,-19]\n",
    "par1=[34.5,36.5]\n",
    "n=5\n",
    "for i in zip(np.linspace(0,1,n),np.linspace(par0[0],par0[1],n),np.linspace(par1[0],par1[1],n)):\n",
    "    print(i)"
   ]
  }
 ],
 "metadata": {
  "kernelspec": {
   "display_name": "Python 3",
   "language": "python",
   "name": "python3"
  },
  "language_info": {
   "codemirror_mode": {
    "name": "ipython",
    "version": 3
   },
   "file_extension": ".py",
   "mimetype": "text/x-python",
   "name": "python",
   "nbconvert_exporter": "python",
   "pygments_lexer": "ipython3",
   "version": "3.6.5"
  }
 },
 "nbformat": 4,
 "nbformat_minor": 2
}
